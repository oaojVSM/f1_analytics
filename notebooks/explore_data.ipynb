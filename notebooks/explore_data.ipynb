{
 "cells": [
  {
   "cell_type": "markdown",
   "id": "09b68252",
   "metadata": {},
   "source": [
    "# Discovery dos dados\n",
    "\n",
    "Neste notebook meu objetivo é fazer um check de sanidade das informações. Eu pesquisei e o dataset é bem visto na comunidade. \n",
    "Meu objetivo aqui, até pelo tempo que tenho disponível para esse projeto, não vai ser me aprofundar e validar todas as informações aqui presentes, mas neste notebook eu quero dar uma olhada geral pra ver se o que tem aqui faz sentido. E o que não fizer sentido eu vou tentar entender um pouco melhor."
   ]
  },
  {
   "cell_type": "code",
   "execution_count": null,
   "id": "e4d6f4a2",
   "metadata": {},
   "outputs": [],
   "source": [
    "# Preciso fazer a config abaixo para que os imports funcionem corretamente\n",
    "\n",
    "import os\n",
    "from pathlib import Path\n",
    "import utils as fxns\n",
    "\n",
    "# Caminho absoluto da raiz do projeto\n",
    "project_root = Path.cwd().parent  # se o notebook está em /notebooks\n",
    "os.chdir(project_root)\n",
    "\n",
    "print(\"Diretório atual:\", Path.cwd())"
   ]
  },
  {
   "cell_type": "code",
   "execution_count": null,
   "id": "c756d848",
   "metadata": {},
   "outputs": [],
   "source": [
    "import pandas as pd\n",
    "import numpy as numpy\n",
    "import matplotlib.pyplot as plt\n",
    "import seaborn as sns\n",
    "from src.modules.db_reader import DbReader\n",
    "from src.data_viz.plotter import Plotter\n",
    "f1_db = DbReader()\n",
    "plotter = Plotter()"
   ]
  },
  {
   "cell_type": "markdown",
   "id": "b08f3235",
   "metadata": {},
   "source": [
    "# Olhada geral nos dados de qualificação:"
   ]
  },
  {
   "cell_type": "code",
   "execution_count": null,
   "id": "8f06913a",
   "metadata": {},
   "outputs": [],
   "source": [
    "df_quali = f1_db.run_query_file(\"data/db_queries/qualify_report.sql\").drop_duplicates()"
   ]
  },
  {
   "cell_type": "code",
   "execution_count": null,
   "id": "64b7cf2b",
   "metadata": {},
   "outputs": [],
   "source": [
    "df_quali"
   ]
  },
  {
   "cell_type": "code",
   "execution_count": null,
   "id": "ddd75347",
   "metadata": {},
   "outputs": [],
   "source": [
    "df_poles = df_quali[df_quali[\"position\"] == 1].copy()"
   ]
  },
  {
   "cell_type": "code",
   "execution_count": null,
   "id": "c55b5221",
   "metadata": {},
   "outputs": [],
   "source": [
    "df_poles"
   ]
  },
  {
   "cell_type": "code",
   "execution_count": null,
   "id": "0aad9df7",
   "metadata": {},
   "outputs": [],
   "source": [
    "df_count_pole_por_piloto = df_poles.groupby(\"driver_surname\").size().reset_index(name=\"pole_count\")"
   ]
  },
  {
   "cell_type": "code",
   "execution_count": null,
   "id": "19a1b116",
   "metadata": {},
   "outputs": [],
   "source": [
    "df_count_pole_por_piloto"
   ]
  },
  {
   "cell_type": "code",
   "execution_count": null,
   "id": "49767690",
   "metadata": {},
   "outputs": [],
   "source": [
    "plotter.barplot(\n",
    "    df=df_count_pole_por_piloto.sort_values(\"pole_count\", ascending=False).head(20),\n",
    "    x=\"driver_surname\",\n",
    "    y=\"pole_count\",\n",
    "    palette=\"viridis\",\n",
    "    figsize=(12, 8),\n",
    "    title=\"Top 20 Pilotos por Pole Positions\"\n",
    ")"
   ]
  },
  {
   "cell_type": "markdown",
   "id": "39e4f3d7",
   "metadata": {},
   "source": [
    "Vendo o gráfico acima, parece que o dataset não é 100% perfeito, o Schumacher teria mais poles do que o indicado, e o Hamilton por exemplo não tem 107, e sim 104."
   ]
  },
  {
   "cell_type": "markdown",
   "id": "8e7626e1",
   "metadata": {},
   "source": [
    "## Vou tentar analisar a integralidade dos dados, e o quão errado pode estar:"
   ]
  },
  {
   "cell_type": "markdown",
   "id": "6c0b4b64",
   "metadata": {},
   "source": [
    "### Primeiro vou ver a quantidade de dados por ano:"
   ]
  },
  {
   "cell_type": "code",
   "execution_count": null,
   "id": "ffda833a",
   "metadata": {},
   "outputs": [],
   "source": [
    "df_quali"
   ]
  },
  {
   "cell_type": "code",
   "execution_count": null,
   "id": "b5b79236",
   "metadata": {},
   "outputs": [],
   "source": [
    "df_eventos_quali_por_ano = df_quali[[\"year\", \"race_name\"]].drop_duplicates().sort_values(\"year\")"
   ]
  },
  {
   "cell_type": "code",
   "execution_count": null,
   "id": "0d04217a",
   "metadata": {},
   "outputs": [],
   "source": [
    "plotter.barplot(\n",
    "    df=df_eventos_quali_por_ano,\n",
    "    x=\"year\",              # eixo X\n",
    "    groupby=\"year\",         # agrupa por ano\n",
    "    count_name=\"count\",     # nome da contagem\n",
    "    palette=\"viridis\",\n",
    "    figsize=(12, 8),\n",
    "    title=\"Eventos de Qualificação por Ano\"\n",
    ")\n"
   ]
  },
  {
   "cell_type": "markdown",
   "id": "0c965b53",
   "metadata": {},
   "source": [
    "Olhando o gráfico acima e dando uma pesquisada superficial, parece que os dados estão completos a partir de 2003."
   ]
  },
  {
   "cell_type": "markdown",
   "id": "c1870e8f",
   "metadata": {},
   "source": [
    "### Tentando entender porque o Hamilton tem pole a mais do que deveria:"
   ]
  },
  {
   "cell_type": "code",
   "execution_count": null,
   "id": "28e25f1a",
   "metadata": {},
   "outputs": [],
   "source": [
    "df_quali_ham = df_quali[df_quali[\"driver_surname\"] == \"Hamilton\"].copy()"
   ]
  },
  {
   "cell_type": "code",
   "execution_count": null,
   "id": "502d070f",
   "metadata": {},
   "outputs": [],
   "source": [
    "df_quali_ham"
   ]
  },
  {
   "cell_type": "code",
   "execution_count": null,
   "id": "40da4954",
   "metadata": {},
   "outputs": [],
   "source": [
    "df_poles_ham = df_quali_ham[df_quali_ham[\"position\"] == 1].copy()"
   ]
  },
  {
   "cell_type": "code",
   "execution_count": null,
   "id": "2246ced6",
   "metadata": {},
   "outputs": [],
   "source": [
    "df_poles_ham"
   ]
  },
  {
   "cell_type": "code",
   "execution_count": null,
   "id": "2ce2efde",
   "metadata": {},
   "outputs": [],
   "source": [
    "plotter.barplot(\n",
    "    df=df_poles_ham,\n",
    "    x=\"year\",                   # eixo X\n",
    "    groupby=\"year\",              # agrupa por ano\n",
    "    count_name=\"pole_count\",     # nome da contagem\n",
    "    palette=\"viridis\",           # paleta de cores\n",
    "    figsize=(12, 8),\n",
    "    title=\"Poles do Hamilton por Ano\"\n",
    ")\n"
   ]
  },
  {
   "cell_type": "markdown",
   "id": "c7d7584a",
   "metadata": {},
   "source": [
    "Por exemplo, aqui fala que o Hamilton tem 5 poles em 2007, mas em tese deveria ser 6. E o que parece que tá faltando é a pole dele na Hungria."
   ]
  },
  {
   "cell_type": "code",
   "execution_count": null,
   "id": "bc825388",
   "metadata": {},
   "outputs": [],
   "source": [
    "df_quali[(df_quali[\"year\"] == 2007) & (df_quali[\"race_name\"] == \"Hungarian Grand Prix\")]"
   ]
  },
  {
   "cell_type": "markdown",
   "id": "021e9d22",
   "metadata": {},
   "source": [
    "Analisando os dados mais a fundo e pesquisando sobre o GP da Hungria: o Hamilton oficialmente fez a pole, porém o que aconteceu foi que o na verdade quem fez o melhor tempo foi o Alonso (conforme os dados mostram corretamente), mas o Alonso foi penalizado e não largou em primeiro na corrida. Então o dataset está correto no sentido de mostrar quem fez os melhores tempos mas não necessariamente vai mostrar quem vai largar em primeiro de fato caso tenha acontecido alguma penalização. Isso potencialmente pode ser corrigido pelo dataset de corridas, que tem a posição de largada de cada piloto."
   ]
  },
  {
   "cell_type": "markdown",
   "id": "dc19b83a",
   "metadata": {},
   "source": [
    "Ao mesmo tempo, em 2012 ele teria feito 7 poles e não 8, vamos entender:"
   ]
  },
  {
   "cell_type": "code",
   "execution_count": null,
   "id": "75116961",
   "metadata": {},
   "outputs": [],
   "source": [
    "df_quali_ham_2012 = df_quali_ham[df_quali_ham[\"year\"] == 2012].copy()"
   ]
  },
  {
   "cell_type": "code",
   "execution_count": null,
   "id": "102683c8",
   "metadata": {},
   "outputs": [],
   "source": [
    "df_quali_ham_2012"
   ]
  },
  {
   "cell_type": "markdown",
   "id": "4fee9320",
   "metadata": {},
   "source": [
    "Analisando os dados e dando uma pesquisada a respeito chego em conclusões parecidas com o que vi acima sobre o GP das Hungria de 2007: em 2012 no GP da Espanha o Hamilton fez a volta mais rápida (como os dados mostram), mas na verdade ele largou de último porque o carro dele estava irregular. Então em termos de analisar os tempos, parece que esse dataset vai estar correto para os dados que estão presentes mas não vai respeitar eventuais desclassificações etc sendo que imagino que isso vai ser respeitado no dataset de corridas (o que faz sentido). Em breve, vou dar uma olhada no dataset de corridas pra confirmar. "
   ]
  },
  {
   "cell_type": "markdown",
   "id": "42e4eefb",
   "metadata": {},
   "source": [
    "# Dados de Corrida:"
   ]
  },
  {
   "cell_type": "code",
   "execution_count": null,
   "id": "d3d1ec86",
   "metadata": {},
   "outputs": [],
   "source": [
    "df_race = f1_db.run_query_file(\"data/db_queries/race_results_report.sql\").drop_duplicates()"
   ]
  },
  {
   "cell_type": "code",
   "execution_count": null,
   "id": "fa9937d3",
   "metadata": {},
   "outputs": [],
   "source": [
    "df_race"
   ]
  },
  {
   "cell_type": "code",
   "execution_count": null,
   "id": "55a724e2",
   "metadata": {},
   "outputs": [],
   "source": [
    "# Vou comparar a as quantidades de poles em relação ao que vimos no dataset de qualificação pra comparar:\n",
    "\n",
    "plotter.barplot(\n",
    "    df=df_race,\n",
    "    x=\"driver_full_name\",                  # eixo X\n",
    "    filter_query=\"starting_position == 1\", # filtro\n",
    "    groupby=\"driver_full_name\",            # agrupamento\n",
    "    count_name=\"pole_count\",               # nome da coluna de contagem\n",
    "    top_n=20,                              # top 20\n",
    "    sort_by=\"pole_count\",                  # ordena pela contagem\n",
    "    ascending=False,                       # do maior pro menor\n",
    "    palette=\"viridis\",                     # paleta de cores\n",
    "    figsize=(12, 8),                        # tamanho da figura\n",
    "    title=\"Top 20 Pilotos em Largadas na Pole\"\n",
    ")\n"
   ]
  },
  {
   "cell_type": "code",
   "execution_count": null,
   "id": "6adcfd47",
   "metadata": {},
   "outputs": [],
   "source": [
    "# A maioria parece certo, mas o Jim Clark tem 1 pole a mais no dataset de corrrida do que ele deveria, vou tentar investigar isso:\n",
    "\n",
    "df_race_clark = df_race[df_race['driver_full_name'] == \"Jim Clark\"].copy()"
   ]
  },
  {
   "cell_type": "code",
   "execution_count": null,
   "id": "257be561",
   "metadata": {},
   "outputs": [],
   "source": [
    "df_race_clark[df_race_clark['starting_position'] == 1].groupby(\"year\").size().reset_index(name=\"pole_count\").plot(kind='bar', x='year', y='pole_count', figsize=(12, 8), title=\"Poles de Jim Clark por Ano\")"
   ]
  },
  {
   "cell_type": "code",
   "execution_count": null,
   "id": "9262fe7b",
   "metadata": {},
   "outputs": [],
   "source": [
    "# O problema está em 1964\n",
    "\n",
    "df_race_clark[(df_race_clark['year'] == 1964) & (df_race_clark['starting_position'] == 1)].copy()"
   ]
  },
  {
   "cell_type": "markdown",
   "id": "cbef6444",
   "metadata": {},
   "source": [
    "O Jim Clark, por incrível que pareça, realmente \"terminou\" essa corrida 2 vezes. O carro dele tava pra quebrar e aí trocaram ele de carro, então ele saiu de um carro e depois o outro quebrou também (risos). De resto, parece até que tá ok. Agora vamos dar uma olhada em vitórias:"
   ]
  },
  {
   "cell_type": "code",
   "execution_count": null,
   "id": "adf633c8",
   "metadata": {},
   "outputs": [],
   "source": [
    "plotter.barplot(\n",
    "    df_race,\n",
    "    x=\"driver_full_name\",\n",
    "    filter_query=\"finishing_position == 1\",\n",
    "    groupby=\"driver_full_name\",\n",
    "    count_name=\"win_count\",\n",
    "    top_n=20,\n",
    "    sort_by=\"win_count\",\n",
    "    title=\"Top 20 Pilotos por Vitórias\",\n",
    ")"
   ]
  },
  {
   "cell_type": "markdown",
   "id": "9304e80c",
   "metadata": {},
   "source": [
    "Esse dataset está parecendo fazer sentido em relação às quantidades."
   ]
  },
  {
   "cell_type": "markdown",
   "id": "e9dd8c98",
   "metadata": {},
   "source": [
    "Vi no Kaggle um cara falando que tem um erro específico no GP do Japão de 2019 em relação a quem ganhou a corrida. Vamos dar uma olhada:"
   ]
  },
  {
   "cell_type": "code",
   "execution_count": null,
   "id": "0737886e",
   "metadata": {},
   "outputs": [],
   "source": [
    "df_race_jp_2019 = df_race[(df_race['year'] == 2019) & (df_race['race_name'] == \"Japanese Grand Prix\")].copy()"
   ]
  },
  {
   "cell_type": "code",
   "execution_count": null,
   "id": "daa63186",
   "metadata": {},
   "outputs": [],
   "source": [
    "df_race_jp_2019"
   ]
  },
  {
   "cell_type": "markdown",
   "id": "f3baac8c",
   "metadata": {},
   "source": [
    "Devem ter arrumado o dataset, pq parece que o vencedor está correto, realmente foi o Bottas que ganhou essa corrida."
   ]
  },
  {
   "cell_type": "markdown",
   "id": "1b4de703",
   "metadata": {},
   "source": [
    "É difícil continuar a validação pq não vou ficar olhando o dataset inteiro com todos os dados em detalhe, mas o que eu vi superficialmente desse dataset de resultados de corrida, eu estou contente e de boa para seguir com ele por ora."
   ]
  },
  {
   "cell_type": "markdown",
   "id": "10b5a418",
   "metadata": {},
   "source": [
    "# Dados de tempos de voltas:"
   ]
  },
  {
   "cell_type": "code",
   "execution_count": null,
   "id": "0b278e70",
   "metadata": {},
   "outputs": [],
   "source": [
    "df_lap_times = f1_db.run_query_file(\"data/db_queries/lap_times_report.sql\").drop_duplicates()"
   ]
  },
  {
   "cell_type": "code",
   "execution_count": null,
   "id": "1de97065",
   "metadata": {},
   "outputs": [],
   "source": [
    "df_lap_times"
   ]
  },
  {
   "cell_type": "markdown",
   "id": "e38fae33",
   "metadata": {},
   "source": [
    "### Tentando ver o quão completo está o dataset:"
   ]
  },
  {
   "cell_type": "code",
   "execution_count": null,
   "id": "5d06b67e",
   "metadata": {},
   "outputs": [],
   "source": [
    "# Posso ver a quantidade de eventos por ano, pra ter uma ideia geral do quanto e a partir de quando temos mais completude de dados:\n",
    "\n",
    "df_lap_times_eventos_anos = df_lap_times[['year', 'race_name']].drop_duplicates().sort_values(\"year\")\n",
    "df_lap_times_eventos_anos"
   ]
  },
  {
   "cell_type": "code",
   "execution_count": null,
   "id": "78688fa0",
   "metadata": {},
   "outputs": [],
   "source": [
    "plotter.barplot(\n",
    "    df_lap_times_eventos_anos,\n",
    "    x=\"year\",\n",
    "    groupby=\"year\",\n",
    "    count_name=\"Event Count\",\n",
    "    sort_by=\"year\",\n",
    ")"
   ]
  },
  {
   "cell_type": "markdown",
   "id": "adb3ec7a",
   "metadata": {},
   "source": [
    "Dando uma pesquisada geral, parece que tá tudo aqui a partir de 1996."
   ]
  },
  {
   "cell_type": "code",
   "execution_count": null,
   "id": "0b465027",
   "metadata": {},
   "outputs": [],
   "source": [
    "df_lap_times.sort_values(\"lap_time\", ascending=False)"
   ]
  },
  {
   "cell_type": "code",
   "execution_count": null,
   "id": "ec99ac8e",
   "metadata": {},
   "outputs": [],
   "source": [
    "# Vou olhar o maior tempo de todos pra ver se ele tá faznedo sentido, que é do Massa na Hungria em 2005\n",
    "\n",
    "df_massa_hungria = fxns.filtrar_evento(\n",
    "    df_lap_times,\n",
    "    year=2005,\n",
    "    circuit_name=\"Hungaroring\",\n",
    "    driver_full_name=\"Felipe Massa\",\n",
    ")"
   ]
  },
  {
   "cell_type": "code",
   "execution_count": null,
   "id": "c960c017",
   "metadata": {},
   "outputs": [],
   "source": [
    "df_massa_hungria"
   ]
  },
  {
   "cell_type": "markdown",
   "id": "59dd8c79",
   "metadata": {},
   "source": [
    "Realmente, parece que o Massa teve um problema nessa corrida e ele parou nos boxes na volta 42 pra tentar resovler (no Wikipedia fala que ele passou várias voltas no Box?). Então possivelmente este dado está correto, mas me questiono se faz sentido usá-lo em análises para comparar pilotos etc. Sendo que esses tempos de volta serão sempre totais outliers, quando o piloto teve algum problema.\n",
    "\n",
    "Mas, para efeito de validação dos dados, vou considerar que o que está aqui, está ok!"
   ]
  },
  {
   "cell_type": "markdown",
   "id": "db1ab2f8",
   "metadata": {},
   "source": [
    "### Vou dar uma olhada nas voltas de pit stop pra garantir que estão sendo classificadas de forma coerente:"
   ]
  },
  {
   "cell_type": "code",
   "execution_count": null,
   "id": "88e89c49",
   "metadata": {},
   "outputs": [],
   "source": [
    "df_lap_times"
   ]
  },
  {
   "cell_type": "markdown",
   "id": "c087f39c",
   "metadata": {},
   "source": [
    "Espero que cada piloto tenha pelo menos 1 pit stop por prova e que a volta seja bem mais lenta:"
   ]
  },
  {
   "cell_type": "code",
   "execution_count": null,
   "id": "ba40e623",
   "metadata": {},
   "outputs": [],
   "source": [
    "df_check_ps = df_lap_times.groupby(by=['race_name', 'race_date', 'driver_full_name', 'is_pit_lap']).agg(\n",
    "    {\n",
    "        'lap_number':'count',\n",
    "        'lap_time_ms':'mean'\n",
    "    }\n",
    ").reset_index()\n",
    "\n",
    "df_check_ps"
   ]
  },
  {
   "cell_type": "markdown",
   "id": "29bea42a",
   "metadata": {},
   "source": [
    "Interessante que parece que o Carlos Sainz e outros pilotos tiveram 4 paradas no GP de Aniversário de 70 anos da F1, vou dar uma olhada se é isso mesmo:"
   ]
  },
  {
   "cell_type": "code",
   "execution_count": null,
   "id": "d0339720",
   "metadata": {},
   "outputs": [],
   "source": [
    "fxns.filtrar_evento(\n",
    "    df=df_lap_times,\n",
    "    race_name='70th Anniversary Grand Prix',\n",
    "    driver_full_name='Carlos Sainz'\n",
    ")"
   ]
  },
  {
   "cell_type": "markdown",
   "id": "578f6181",
   "metadata": {},
   "source": [
    "Está correto, o que acontece é que, como classificamos tanto a in-lap quanto a out-lap (tanto a volta que o piloto entra quanto a que ele sai dos boxes) como *\"is_pit_lap\"*, então o número de *pit laps* sempre vai ser o dobro da quantidade de paradas e ele realmente parou 2 vezes nessa corrida. Ou seja, pelo menos em uma análise pontual, parece que a flag está correta."
   ]
  },
  {
   "cell_type": "code",
   "execution_count": null,
   "id": "bf007479",
   "metadata": {},
   "outputs": [],
   "source": [
    "df_check_ps.groupby('is_pit_lap').agg({'lap_number':'mean', 'lap_time_ms': 'mean'})"
   ]
  },
  {
   "cell_type": "markdown",
   "id": "a989d2a0",
   "metadata": {},
   "source": [
    "Em média, o númeor de pit laps é de quase 4, o que significa 2 paradas em média por corrida e o tempo de volta quando a flag é 1 é bem maior do que quando é 0, o que faz sentido."
   ]
  }
 ],
 "metadata": {
  "kernelspec": {
   "display_name": "venv (3.12.3)",
   "language": "python",
   "name": "python3"
  },
  "language_info": {
   "codemirror_mode": {
    "name": "ipython",
    "version": 3
   },
   "file_extension": ".py",
   "mimetype": "text/x-python",
   "name": "python",
   "nbconvert_exporter": "python",
   "pygments_lexer": "ipython3",
   "version": "3.12.3"
  }
 },
 "nbformat": 4,
 "nbformat_minor": 5
}
