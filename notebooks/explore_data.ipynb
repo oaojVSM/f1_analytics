{
 "cells": [
  {
   "cell_type": "markdown",
   "id": "09b68252",
   "metadata": {},
   "source": [
    "# Análise exploratória dos dados "
   ]
  },
  {
   "cell_type": "code",
   "execution_count": null,
   "id": "e4d6f4a2",
   "metadata": {},
   "outputs": [],
   "source": [
    "import os\n",
    "from pathlib import Path\n",
    "\n",
    "# Caminho absoluto da raiz do projeto\n",
    "project_root = Path.cwd().parent  # se o notebook está em /notebooks\n",
    "os.chdir(project_root)\n",
    "\n",
    "print(\"Diretório atual:\", Path.cwd())"
   ]
  },
  {
   "cell_type": "code",
   "execution_count": null,
   "id": "c756d848",
   "metadata": {},
   "outputs": [],
   "source": [
    "import pandas as pd\n",
    "import numpy as numpy\n",
    "import matplotlib.pyplot as plt\n",
    "import seaborn as sns\n",
    "from src.modules.db_reader import DbReader\n",
    "f1_db = DbReader()"
   ]
  },
  {
   "cell_type": "markdown",
   "id": "b08f3235",
   "metadata": {},
   "source": [
    "# Olhada geral nos dados de qualificação:"
   ]
  },
  {
   "cell_type": "code",
   "execution_count": null,
   "id": "8f06913a",
   "metadata": {},
   "outputs": [],
   "source": [
    "df_quali = f1_db.run_query_file(\"data/db_queries/qualify_report.sql\").drop_duplicates()"
   ]
  },
  {
   "cell_type": "code",
   "execution_count": null,
   "id": "64b7cf2b",
   "metadata": {},
   "outputs": [],
   "source": [
    "df_quali"
   ]
  },
  {
   "cell_type": "code",
   "execution_count": null,
   "id": "ddd75347",
   "metadata": {},
   "outputs": [],
   "source": [
    "df_poles = df_quali[df_quali[\"position\"] == 1].copy()"
   ]
  },
  {
   "cell_type": "code",
   "execution_count": null,
   "id": "c55b5221",
   "metadata": {},
   "outputs": [],
   "source": [
    "df_poles"
   ]
  },
  {
   "cell_type": "code",
   "execution_count": null,
   "id": "0aad9df7",
   "metadata": {},
   "outputs": [],
   "source": [
    "df_count_pole_por_piloto = df_poles.groupby(\"driver_surname\").size().reset_index(name=\"pole_count\")"
   ]
  },
  {
   "cell_type": "code",
   "execution_count": null,
   "id": "19a1b116",
   "metadata": {},
   "outputs": [],
   "source": [
    "df_count_pole_por_piloto"
   ]
  },
  {
   "cell_type": "code",
   "execution_count": null,
   "id": "49767690",
   "metadata": {},
   "outputs": [],
   "source": [
    "fig, ax = plt.subplots(figsize=(12, 8))\n",
    "\n",
    "sns.barplot(\n",
    "    data=df_count_pole_por_piloto.sort_values(\"pole_count\", ascending=False).head(20),\n",
    "    y=\"pole_count\",\n",
    "    x=\"driver_surname\",\n",
    "    palette=\"viridis\",\n",
    "    ax=ax\n",
    ")\n",
    "\n",
    "# Ajusta rótulos no eixo X\n",
    "ax.set_xticklabels(ax.get_xticklabels(), rotation=45, ha='right')\n",
    "\n",
    "# Adiciona valores acima das barras\n",
    "for container in ax.containers:\n",
    "    ax.bar_label(container, fmt='%d', label_type='edge', padding=3)\n",
    "\n",
    "# Ajusta margem superior para os rótulos não ficarem cortados\n",
    "plt.tight_layout()\n",
    "plt.show()\n"
   ]
  },
  {
   "cell_type": "markdown",
   "id": "39e4f3d7",
   "metadata": {},
   "source": [
    "Vendo o gráfico acima, parece que o dataset não é 100% perfeito, o Schumacher teria mais poles do que o indicado, e o Hamilton por exemplo não tem 107, e sim 104."
   ]
  },
  {
   "cell_type": "markdown",
   "id": "8e7626e1",
   "metadata": {},
   "source": [
    "## Vou tentar analisar a integralidade dos dados, e o quão errado pode estar:"
   ]
  },
  {
   "cell_type": "markdown",
   "id": "6c0b4b64",
   "metadata": {},
   "source": [
    "### Primeiro vou ver a quantidade de dados por ano:"
   ]
  },
  {
   "cell_type": "code",
   "execution_count": null,
   "id": "ffda833a",
   "metadata": {},
   "outputs": [],
   "source": [
    "df_quali"
   ]
  },
  {
   "cell_type": "code",
   "execution_count": null,
   "id": "b5b79236",
   "metadata": {},
   "outputs": [],
   "source": [
    "df_eventos_quali_por_ano = df_quali[[\"year\", \"race_name\"]].drop_duplicates().sort_values(\"year\")"
   ]
  },
  {
   "cell_type": "code",
   "execution_count": null,
   "id": "2c4a238f",
   "metadata": {},
   "outputs": [],
   "source": [
    "df_eventos_quali_por_ano"
   ]
  },
  {
   "cell_type": "code",
   "execution_count": null,
   "id": "0d04217a",
   "metadata": {},
   "outputs": [],
   "source": [
    "fing, ax = plt.subplots(figsize=(12, 8))\n",
    "\n",
    "sns.barplot(\n",
    "    data=df_eventos_quali_por_ano.groupby(\"year\").size().reset_index(name=\"count\"),\n",
    "    x=\"year\",\n",
    "    y=\"count\",\n",
    "    palette=\"viridis\",\n",
    "    ax=ax\n",
    ")\n",
    "\n",
    "# Ajusta rótulos no eixo X\n",
    "ax.set_xticklabels(ax.get_xticklabels(), rotation=45, ha='right')\n",
    "\n",
    "# Adiciona valores acima das barras\n",
    "for container in ax.containers:\n",
    "    ax.bar_label(container, fmt='%d', label_type='edge', padding=3)\n",
    "\n",
    "# Ajusta margem superior para os rótulos não ficarem cortados\n",
    "plt.tight_layout()\n",
    "plt.show()\n"
   ]
  },
  {
   "cell_type": "markdown",
   "id": "0c965b53",
   "metadata": {},
   "source": [
    "Olhando o gráfico acima e dando uma pesquisada, parece que os dados estão completos a partir de 2003."
   ]
  },
  {
   "cell_type": "markdown",
   "id": "c1870e8f",
   "metadata": {},
   "source": [
    "### Tentando entender porque o Hamilton tem pole a mais do que deveria:"
   ]
  },
  {
   "cell_type": "code",
   "execution_count": null,
   "id": "28e25f1a",
   "metadata": {},
   "outputs": [],
   "source": [
    "df_quali_ham = df_quali[df_quali[\"driver_surname\"] == \"Hamilton\"].copy()"
   ]
  },
  {
   "cell_type": "code",
   "execution_count": null,
   "id": "502d070f",
   "metadata": {},
   "outputs": [],
   "source": [
    "df_quali_ham"
   ]
  },
  {
   "cell_type": "code",
   "execution_count": null,
   "id": "40da4954",
   "metadata": {},
   "outputs": [],
   "source": [
    "df_poles_ham = df_quali_ham[df_quali_ham[\"position\"] == 1].copy()"
   ]
  },
  {
   "cell_type": "code",
   "execution_count": null,
   "id": "2246ced6",
   "metadata": {},
   "outputs": [],
   "source": [
    "df_poles_ham"
   ]
  },
  {
   "cell_type": "code",
   "execution_count": null,
   "id": "2ce2efde",
   "metadata": {},
   "outputs": [],
   "source": [
    "fig, ax = plt.subplots(figsize=(12, 8))\n",
    "\n",
    "sns.barplot(\n",
    "    data=df_poles_ham.groupby(\"year\").size().reset_index(name=\"pole_count\"),\n",
    "    x=\"year\",\n",
    "    y=\"pole_count\",\n",
    "    palette=\"viridis\",\n",
    "    ax=ax\n",
    ")\n",
    "\n",
    "# Ajusta rótulos no eixo X\n",
    "ax.set_xticklabels(ax.get_xticklabels(), rotation=45, ha='right')\n",
    "\n",
    "# Adiciona valores acima das barras\n",
    "for container in ax.containers:\n",
    "    ax.bar_label(container, fmt='%d', label_type='edge', padding=3)\n",
    "\n",
    "# Ajusta margem superior para os rótulos não ficarem cortados\n",
    "plt.tight_layout()\n",
    "plt.show()"
   ]
  },
  {
   "cell_type": "markdown",
   "id": "c7d7584a",
   "metadata": {},
   "source": [
    "Por exemplo, aqui fala que o Hamilton tem 5 poles em 2007, mas em tese deveria ser 6. E o que parece que tá faltando é a pole dele na Hungria."
   ]
  },
  {
   "cell_type": "code",
   "execution_count": null,
   "id": "bc825388",
   "metadata": {},
   "outputs": [],
   "source": [
    "df_quali[(df_quali[\"year\"] == 2007) & (df_quali[\"race_name\"] == \"Hungarian Grand Prix\")]"
   ]
  },
  {
   "cell_type": "markdown",
   "id": "021e9d22",
   "metadata": {},
   "source": [
    "Analisando os dados mais a fundo e pesquisando sobre o GP da Hungria: o Hamilton oficialmente fez a pole, porém o que aconteceu foi que o na verdade quem fez o melhor tempo foi o Alonso (conforme os dados mostram corretamente), mas o Alonso foi penalizado e não largou em primeiro na corrida. Então o dataset está correto no sentido de mostrar quem fez os melhores tempos mas não necessariamente vai mostrar quem vai largar em primeiro de fato caso tenha acontecido alguma penalização. Isso potencialmente pode ser corrigido pelo dataset de corridas, que tem a posição de largada de cada piloto."
   ]
  },
  {
   "cell_type": "markdown",
   "id": "dc19b83a",
   "metadata": {},
   "source": [
    "Ao mesmo tempo, em 2012 ele teria feito 7 poles e não 8, vamos entender:"
   ]
  },
  {
   "cell_type": "code",
   "execution_count": null,
   "id": "75116961",
   "metadata": {},
   "outputs": [],
   "source": [
    "df_quali_ham_2012 = df_quali_ham[df_quali_ham[\"year\"] == 2012].copy()"
   ]
  },
  {
   "cell_type": "code",
   "execution_count": null,
   "id": "102683c8",
   "metadata": {},
   "outputs": [],
   "source": [
    "df_quali_ham_2012"
   ]
  },
  {
   "cell_type": "markdown",
   "id": "4fee9320",
   "metadata": {},
   "source": [
    "Analisando os dados e dando uma pesquisada a respeito chego em conclusões parecidas com o que vi acima sobre o GP das Hungria de 2007: em 2012 no GP da Espanha o Hamilton fez a volta mais rápida (como os dados mostram), mas na verdade ele largou de último porque o carro dele estava irregular. Então em termos de analisar os tempos, parece que esse dataset vai estar correto para os dados que estão presentes mas não vai respeitar eventuais desclassificações etc sendo que imagino que isso vai ser respeitado no dataset de corridas (o que faz sentido). Em breve, vou dar uma olhada no dataset de corridas pra confirmar. "
   ]
  },
  {
   "cell_type": "markdown",
   "id": "42e4eefb",
   "metadata": {},
   "source": [
    "# Dados de Corrida:"
   ]
  },
  {
   "cell_type": "markdown",
   "id": "d3d1ec86",
   "metadata": {},
   "source": []
  }
 ],
 "metadata": {
  "kernelspec": {
   "display_name": "venv (3.12.3)",
   "language": "python",
   "name": "python3"
  },
  "language_info": {
   "codemirror_mode": {
    "name": "ipython",
    "version": 3
   },
   "file_extension": ".py",
   "mimetype": "text/x-python",
   "name": "python",
   "nbconvert_exporter": "python",
   "pygments_lexer": "ipython3",
   "version": "3.12.3"
  }
 },
 "nbformat": 4,
 "nbformat_minor": 5
}
