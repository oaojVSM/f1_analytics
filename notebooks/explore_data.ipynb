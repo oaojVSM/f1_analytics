{
 "cells": [
  {
   "cell_type": "markdown",
   "id": "09b68252",
   "metadata": {},
   "source": [
    "# Análise exploratória dos dados "
   ]
  }
 ],
 "metadata": {
  "language_info": {
   "name": "python"
  }
 },
 "nbformat": 4,
 "nbformat_minor": 5
}
