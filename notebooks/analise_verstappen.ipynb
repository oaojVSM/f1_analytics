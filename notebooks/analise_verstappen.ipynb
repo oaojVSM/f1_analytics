{
 "cells": [
  {
   "cell_type": "markdown",
   "id": "78abfd56",
   "metadata": {},
   "source": [
    "# O quão bom é Max Verstappen? Uma análise de dados"
   ]
  },
  {
   "cell_type": "markdown",
   "id": "26ffcf81",
   "metadata": {},
   "source": [
    "Neste notebook, apresento uma análise de dados construída a partir de um dataset do Kaggle, previamente extraído e refinado dentro da própria codebase em que este notebook está hospedado.\n",
    "\n",
    "O objetivo é responder, de forma analítica, à pergunta: **“O quão bom é Max Verstappen?”**\n",
    "Para isso, sigo uma narrativa dedutiva, partindo de indicadores mais gerais — como número de vitórias, pódios e títulos — a fim de estabelecer um panorama inicial e nivelar o contexto para qualquer leitor: estamos, sem dúvida, diante de um dos maiores pilotos da Fórmula 1 moderna.\n",
    "\n",
    "Em seguida, à medida que a análise se aprofunda, passo a examinar métricas mais específicas e comparativas — como consistência de desempenho, diferença em relação aos companheiros de equipe e outros fatores que ajudam a isolar variáveis externas, como o desempenho do carro ou da equipe.\n",
    "O objetivo é ir além da “obviedade” dos números brutos, buscando entender até que ponto o domínio de Verstappen é reflexo do carro ou resultado do próprio piloto."
   ]
  },
  {
   "cell_type": "markdown",
   "id": "92f7b0df",
   "metadata": {},
   "source": [
    "#### Avisos gerais em relação a análise:\n",
    "\n",
    "- Os dados utilizados foram extraídos do dataset Kaggle: https://www.kaggle.com/datasets/rohanrao/formula-1-world-championship-1950-2020\n",
    "    - Ver notebook: `explore_data.ipynb` para ter acesso ao \"check de sanidade\" que fiz do dataset e entender um pouco de suas limitações.\n",
    "- No momento da análise, o campeonado de 2025 segue em andamento e dados referentes ao mesmo não estarão presentes na análise."
   ]
  },
  {
   "cell_type": "markdown",
   "id": "b254eff4",
   "metadata": {
    "vscode": {
     "languageId": "plaintext"
    }
   },
   "source": [
    "## Setup da análise:\n",
    "\n",
    "Imports, configs etc..."
   ]
  },
  {
   "cell_type": "code",
   "execution_count": null,
   "id": "f19facb7",
   "metadata": {},
   "outputs": [],
   "source": [
    "import pandas as pd\n",
    "import seaborn as sns\n",
    "import matplotlib.pyplot as plt\n",
    "import utils as fxns\n",
    "import os\n",
    "from pathlib import Path\n",
    "import utils as fxns\n",
    "from dateutil.relativedelta import relativedelta\n",
    "\n",
    "# Caminho absoluto da raiz do projeto\n",
    "project_root = Path.cwd().parent  # se o notebook está em /notebooks\n",
    "os.chdir(project_root)\n",
    "\n",
    "print(\"Diretório atual:\", Path.cwd())"
   ]
  },
  {
   "cell_type": "code",
   "execution_count": null,
   "id": "e8cadd76",
   "metadata": {},
   "outputs": [],
   "source": [
    "from src.modules.db_reader import DbReader\n",
    "from src.data_viz.plotter import Plotter\n",
    "f1_db = DbReader()\n",
    "plotter = Plotter()"
   ]
  },
  {
   "cell_type": "markdown",
   "id": "94b08469",
   "metadata": {},
   "source": [
    "### Importando os datasets:"
   ]
  },
  {
   "cell_type": "code",
   "execution_count": null,
   "id": "82e0f1a9",
   "metadata": {},
   "outputs": [],
   "source": [
    "# Corridas:\n",
    "\n",
    "df_races = f1_db.run_query_file(\"data/db_queries/race_results_report.sql\").drop_duplicates()\n",
    "df_races['race_date'] = pd.to_datetime(df_races['race_date'])\n",
    "\n",
    "df_races"
   ]
  },
  {
   "cell_type": "code",
   "execution_count": null,
   "id": "522ff4de",
   "metadata": {},
   "outputs": [],
   "source": [
    "# Infos sobre pilotos:\n",
    "\n",
    "df_drivers = f1_db.run_query_file(\"data/db_queries/drivers.sql\").drop_duplicates()\n",
    "df_drivers['dob'] = pd.to_datetime(df_drivers['dob'])\n",
    "df_drivers\n"
   ]
  },
  {
   "cell_type": "code",
   "execution_count": null,
   "id": "0456baed",
   "metadata": {},
   "outputs": [],
   "source": [
    "df_lap_times = f1_db.run_query_file(\"data/db_queries/lap_times_report.sql\").drop_duplicates()\n",
    "df_lap_times['race_date'] = pd.to_datetime(df_lap_times['race_date'])\n",
    "df_lap_times"
   ]
  },
  {
   "cell_type": "code",
   "execution_count": null,
   "id": "80eabb61",
   "metadata": {},
   "outputs": [],
   "source": [
    "# Vou adicionar a idade no dataset de corridas, já que vou acabar usando isso agora e em outros momentos:\n",
    "\n",
    "df_races = pd.merge(\n",
    "    df_races,\n",
    "    df_drivers[['driver_id', 'dob']],\n",
    "    on='driver_id',\n",
    "    how='left'\n",
    ")\n",
    "\n",
    "df_races['driver_age_at_race'] = df_races.apply(lambda row: fxns.calcula_idade(row['dob'], row['race_date']), axis=1)\n",
    "df_races"
   ]
  },
  {
   "cell_type": "markdown",
   "id": "a432b113",
   "metadata": {},
   "source": [
    "## Começando do começo...\n",
    "\n",
    "Max Verstappen chegou fazendo barulho na F1, sendo o piloto mais jovem da história da F1 ao largar em uma corrida:"
   ]
  },
  {
   "cell_type": "code",
   "execution_count": null,
   "id": "8ca8f97a",
   "metadata": {},
   "outputs": [],
   "source": [
    "df_first_race = fxns.gerar_dataset_primeiro_evento(df_races, df_drivers)\n"
   ]
  },
  {
   "cell_type": "code",
   "execution_count": null,
   "id": "7e64efff",
   "metadata": {},
   "outputs": [],
   "source": [
    "df_top_10_jovens_largada = df_first_race.sort_values(\"idade_primeiro_evento\").head(10)\n",
    "df_top_10_jovens_largada"
   ]
  },
  {
   "cell_type": "code",
   "execution_count": null,
   "id": "1f2863cb",
   "metadata": {},
   "outputs": [],
   "source": [
    "fxns.gera_graf_top_10_mais_jovens(df_top_10_jovens_largada, \"Os 10 pilotos mais jovens a largar na Fórmula 1\", \"Idade na estreia (anos)\", \"Verstappen\")"
   ]
  },
  {
   "cell_type": "markdown",
   "id": "0f4082e3",
   "metadata": {},
   "source": [
    "E vai além, ele não apenas possui essa marca considerando estréia, mas pra vitória na F1 também."
   ]
  },
  {
   "cell_type": "code",
   "execution_count": null,
   "id": "29426536",
   "metadata": {},
   "outputs": [],
   "source": [
    "# Vamos gerar um dataset com a primeira vitória de cada piloto por idade no momento em que conquistou a sua vitória:\n",
    "\n",
    "df_race_wins = df_races[df_races['finishing_position'] == 1].copy()\n",
    "\n",
    "df_first_win = fxns.gerar_dataset_primeiro_evento(df_race_wins, df_drivers)"
   ]
  },
  {
   "cell_type": "code",
   "execution_count": null,
   "id": "e9ec9be8",
   "metadata": {},
   "outputs": [],
   "source": [
    "# Agora pego os 10 mais jovens:\n",
    "\n",
    "df_top_10_jovens_vencedores = df_first_win.sort_values(\"idade_primeiro_evento\").head(10)\n",
    "df_top_10_jovens_vencedores"
   ]
  },
  {
   "cell_type": "code",
   "execution_count": null,
   "id": "031c33f0",
   "metadata": {},
   "outputs": [],
   "source": [
    "fxns.gera_graf_top_10_mais_jovens(df_top_10_jovens_vencedores, \"Os 10 pilotos mais jovens a vencer na Fórmula 1\", \"Idade na estreia (anos)\", \"Verstappen\")"
   ]
  },
  {
   "cell_type": "markdown",
   "id": "81d93014",
   "metadata": {},
   "source": [
    "## Mas... e desde então?\n",
    "\n",
    "Beleza, acima conseguimos ver que o Verstappen não só foi o mais jovem estreante da F1 mas também foi o mais jovem a ganhar uma corrida, um ano após a sua estreia.\n",
    "\n",
    "Mas, desde então, se fizermos uma visão geral dos números de vitórias, poles etc, Verstappen continua tendo marcas interessantes? Vamos dar uma olhada em alguns números gerais e a partir disso podemos ir aprofundando as nossas análises."
   ]
  },
  {
   "cell_type": "markdown",
   "id": "567bd4a3",
   "metadata": {},
   "source": [
    "### Pole Positions:"
   ]
  },
  {
   "cell_type": "code",
   "execution_count": null,
   "id": "bca5737c",
   "metadata": {},
   "outputs": [],
   "source": [
    "df_races"
   ]
  },
  {
   "cell_type": "code",
   "execution_count": null,
   "id": "f3e7e93f",
   "metadata": {},
   "outputs": [],
   "source": [
    "df_pole_positions = df_races[df_races['starting_position'] == 1].copy()\n",
    "\n",
    "df_pole_positions_agrup = df_pole_positions.groupby('driver_full_name').agg(\n",
    "    {\n",
    "        'race_name': 'count',\n",
    "        'driver_age_at_race': 'max'\n",
    "    }\n",
    ").rename(columns={'race_name': 'pole_positions', 'driver_age_at_race': 'oldest_pole_position_age'}).reset_index().sort_values(by='pole_positions', ascending=False)\n",
    "\n",
    "df_pole_positions_agrup"
   ]
  },
  {
   "cell_type": "code",
   "execution_count": null,
   "id": "de138bc5",
   "metadata": {},
   "outputs": [],
   "source": [
    "# Vamos tornar isso visual pra ficar mais fácil de expor a informação:\n",
    "\n",
    "df_poles_top10 = df_pole_positions_agrup.head(10).copy()\n",
    "\n",
    "df_poles_top10['nome_e_idade'] = df_poles_top10.apply(lambda row: f\"{row['driver_full_name']} ({round(row['oldest_pole_position_age'], 2)} anos)\", axis=1)\n",
    "\n",
    "fxns.graf_top10_pilotos(\n",
    "    df_poles_top10,\n",
    "    col_nome=\"nome_e_idade\",\n",
    "    col_valor=\"pole_positions\",\n",
    "    titulo=\"Top 10 pilotos em número de poles\",\n",
    "    xlabel=\"Poles\",\n",
    "    nome_a_destacar=\"Verstappen\",\n",
    "    orientation='vertical',\n",
    "    mostrar_chips=False\n",
    ")\n"
   ]
  },
  {
   "cell_type": "markdown",
   "id": "a9f567ce",
   "metadata": {},
   "source": [
    "Acima não só podemos ver que o Verstappen é o número 5 em maior quantidade de pole positions na história da F1, como também ele é o mais jovem entre todos os pilotos que estão presentes na lista dos Top 10, sendo aproximadamente 5 anos mais jovem do que o 2o piloto mais jovem que seria o Nico Rosberg.\n",
    "\n",
    "**Obs**.: a idade apresentada é a idade do piloto ao conseguir sua última pole presente na base de dados, faço assim pra tentar nivelar a comparação, ou seja, considero apenas a idade do piloto enquanto ele estava aumentando sua estatística de pole position."
   ]
  },
  {
   "cell_type": "markdown",
   "id": "a91bf5ea",
   "metadata": {},
   "source": [
    "O piloto que chega mais perto de Verstappen em termos de idade e que possui um volume bem considerável de pole positions seria o Leclerc, que cairia bem no Top 11. Porém, possui 26 pole positions, que equivale a 65% da quantidade de pole positions de Max Verstappen:"
   ]
  },
  {
   "cell_type": "code",
   "execution_count": null,
   "id": "6f499258",
   "metadata": {},
   "outputs": [],
   "source": [
    "df_poles_ver_lec = df_pole_positions_agrup[df_pole_positions_agrup['driver_full_name'].str.contains('Verstappen|Leclerc', case=False, na=False)].copy()\n",
    "\n",
    "df_poles_ver_lec['nome_e_idade'] = df_poles_ver_lec.apply(lambda row: f\"{row['driver_full_name']} ({round(row['oldest_pole_position_age'], 2)} anos)\", axis=1)\n",
    "\n",
    "fxns.graf_top10_pilotos(\n",
    "    df_poles_ver_lec,\n",
    "    col_nome=\"nome_e_idade\",\n",
    "    col_valor=\"pole_positions\",\n",
    "    titulo=\"Pole Positions: Verstappen VS LeClerc\",\n",
    "    xlabel=\"Poles\",\n",
    "    nome_a_destacar=\"Verstappen\",\n",
    "    orientation='vertical',\n",
    "    mostrar_chips=False\n",
    ")\n"
   ]
  },
  {
   "cell_type": "markdown",
   "id": "885e6c4d",
   "metadata": {},
   "source": [
    "### Vitórias:"
   ]
  },
  {
   "cell_type": "code",
   "execution_count": null,
   "id": "1a332696",
   "metadata": {},
   "outputs": [],
   "source": [
    "df_race_wins = df_races[df_races['finishing_position'] == 1].copy()\n",
    "\n",
    "df_race_wins_agrup = df_race_wins.groupby('driver_full_name').agg(\n",
    "    {\n",
    "        'race_name': 'count',\n",
    "        'driver_age_at_race': 'max'\n",
    "    }\n",
    ").rename(columns={'race_name': 'race_wins', 'driver_age_at_race': 'oldest_race_win_age'}).reset_index().sort_values(by='race_wins', ascending=False)\n",
    "\n",
    "df_race_wins_agrup"
   ]
  },
  {
   "cell_type": "code",
   "execution_count": null,
   "id": "a121e6d1",
   "metadata": {},
   "outputs": [],
   "source": [
    "# Vamos tornar isso visual pra ficar mais fácil de expor a informação:\n",
    "\n",
    "df_race_wins_top_10 = df_race_wins_agrup.head(10).copy()\n",
    "\n",
    "df_race_wins_top_10['nome_e_idade'] = df_race_wins_top_10.apply(lambda row: f\"{row['driver_full_name']} ({round(row['oldest_race_win_age'], 2)} anos)\", axis=1)\n",
    "\n",
    "fxns.graf_top10_pilotos(\n",
    "    df_race_wins_top_10,\n",
    "    col_nome=\"nome_e_idade\",\n",
    "    col_valor=\"race_wins\",\n",
    "    titulo=\"Top 10 pilotos em número de vitórias\",\n",
    "    xlabel=\"Vitórias\",\n",
    "    nome_a_destacar=\"Verstappen\",\n",
    "    orientation='vertical',\n",
    "    mostrar_chips=False\n",
    ")\n"
   ]
  },
  {
   "cell_type": "markdown",
   "id": "c4614f62",
   "metadata": {},
   "source": [
    "Bom, eu acho que o gráfico acima nem precisa de muita explicação. Podemos ver que o Verstappen é o 3o piloto com maior número de vitórias da história e é o mais jovem por uma margem de 5 anos na lista, sendo que Vettel é o segundo mais jovem na lista de top 10, com 10 vitórias a menos ao final de 2024, ano no qual Vettel está aposentado e Verstappen continua correndo em 2025."
   ]
  },
  {
   "cell_type": "markdown",
   "id": "69dd7a6f",
   "metadata": {},
   "source": [
    "### E se olharmos em termos percentuais?"
   ]
  },
  {
   "cell_type": "code",
   "execution_count": null,
   "id": "cc274d3d",
   "metadata": {},
   "outputs": [],
   "source": [
    "# Posso trazer a quantidade total de corridas de cada piloto pro dataset que usei pra ver as vitórias e calcular um percentual\n",
    "\n",
    "df_driver_total_races = df_races.groupby('driver_full_name').agg({'race_name':'count'}).rename(columns={'race_name':'total_races'})\n",
    "\n",
    "\n",
    "df_race_wins_agrup = pd.merge(\n",
    "    left=df_race_wins_agrup,\n",
    "    right=df_driver_total_races,\n",
    "    on='driver_full_name',\n",
    "    how='left'\n",
    ")\n",
    "\n",
    "df_race_wins_agrup['win_percentage'] = df_race_wins_agrup['race_wins'] / df_race_wins_agrup['total_races']"
   ]
  },
  {
   "cell_type": "code",
   "execution_count": null,
   "id": "1a7168d5",
   "metadata": {},
   "outputs": [],
   "source": [
    "df_race_wins_agrup"
   ]
  },
  {
   "cell_type": "code",
   "execution_count": null,
   "id": "42c5ddd8",
   "metadata": {},
   "outputs": [],
   "source": [
    "# Vamos dar uma olhada nos top 10 maiores percentuais de vitórias:\n",
    "\n",
    "df_top_10_win_percentages = df_race_wins_agrup[\n",
    "    df_race_wins_agrup['total_races'] > 100 # Vou colocar essa restrição porque tem alguns pilotos que participaram de pouquíssimas corridas no passado e tem vitórias, não faz sentido a comparação nesse caso\n",
    "].sort_values(by='win_percentage', ascending=False).head(10)"
   ]
  },
  {
   "cell_type": "code",
   "execution_count": null,
   "id": "91e3932e",
   "metadata": {},
   "outputs": [],
   "source": [
    "df_top_10_win_percentages"
   ]
  },
  {
   "cell_type": "code",
   "execution_count": null,
   "id": "0fc50a0e",
   "metadata": {},
   "outputs": [],
   "source": [
    "df_top_10_win_percentages['nome_e_idade'] = df_top_10_win_percentages.apply(lambda row: f\"{row['driver_full_name']} ({round(row['oldest_race_win_age'], 2)} anos)\", axis=1)\n",
    "\n",
    "fxns.graf_top10_pilotos(\n",
    "    df_top_10_win_percentages,\n",
    "    col_nome=\"driver_full_name\",\n",
    "    col_valor=\"win_percentage\",\n",
    "    titulo=\"Top 10 pilotos em percentual de vitórias\",\n",
    "    xlabel=\"Poles\",\n",
    "    nome_a_destacar=\"Verstappen\",\n",
    "    orientation='vertical',\n",
    "    mostrar_chips=False,\n",
    "    valor_format_str=\"{:.1%}\"\n",
    ")"
   ]
  },
  {
   "cell_type": "markdown",
   "id": "109d89d3",
   "metadata": {},
   "source": [
    "Ao final da temporada de 2024, Verstappen era o 4o piloto com maior percentual de vitórias da F1, considerando os pilotos que tiveram participação em mais de 5 corridas. Mas valem algumas observaçõe que não são tão óbvias ao observar o gráfico:\n",
    "\n",
    "- O Verstappen tem muito mais corridas do que qualquer piloto que tem um percentual maior do que o dele;\n",
    "- O Verstappen está com o maior percentual ao se considerar os pilotos da era \"moderna\"."
   ]
  },
  {
   "cell_type": "markdown",
   "id": "884750f2",
   "metadata": {},
   "source": [
    "# Mas e aí?"
   ]
  },
  {
   "cell_type": "markdown",
   "id": "32649849",
   "metadata": {},
   "source": [
    "Todos esses números apresentados até agora são lindos e maravilhosos. Independente de qualquer contraponto, não há de se discutir que o Verstappen hoje em dia é um piloto mais do que consolidado e está entre os maiores nomes que a F1 já teve em sua história.\n",
    "\n",
    "Porém... Tudo que trouxe até agora são só grandes números, estou comparando valores absolutos com outros pilotos sem isolar um grande fator: a equipe.\n",
    "\n",
    "A F1, apesar de certas pessoas esquecerem às vezes, não é uma competição apenas entre pilotos, mas também uma competição de construtores (equipes), que acabam por influenciar muito o resultado individual de cada piloto, e aí a questão é a seguinte: como poderíamos tentar isolar esse fator em uma análise?\n",
    "\n",
    "É muito difícil, mas acredito que com algumas premissas, consigo prosseguir a análise de forma a tentar fazer isso de duas formas: primeiro posso analisar a consistência de tempo de volta dos pilotos (um piloto bom tem que ser um piloto que consegue entregar resultado nos momentos mais importantes e que tem tempos de volta consistentes), e, além disso, podemos comparar os pilotos diretamente com os companheiros de equipe que tiveram, sendo que ambos possuem o mesmo equipamento (premissa importante)."
   ]
  },
  {
   "cell_type": "markdown",
   "id": "661b044c",
   "metadata": {},
   "source": [
    "Então agora, pretendo prosseguir a análise sem aprofundar em grandes números absolutos, mas indo um passo adiante na análise, entrando mais em detalhe nos números..."
   ]
  },
  {
   "cell_type": "markdown",
   "id": "fa2b7b6f",
   "metadata": {},
   "source": [
    "## Análise de Consistência:\n",
    "\n",
    "A ideia aqui vai ser tentar fazer uma análise da consistência do piloto ao longo das corridas que participou. E eu não quero fazer isso em torno de uma análise de resultados, mas sim de tempos de volta, porque resultados, novamente, podem ser muito influenciados por externalidades (questões mecânicas, performance da equipe etc), mas, em tese, quem tem mais influência na consistência do tempo de volta, seja ele bom ou ruim, é o piloto. Então vamos lá:"
   ]
  },
  {
   "cell_type": "code",
   "execution_count": null,
   "id": "6f0fc506",
   "metadata": {},
   "outputs": [],
   "source": [
    "df_lap_times"
   ]
  },
  {
   "cell_type": "markdown",
   "id": "aea17efc",
   "metadata": {},
   "source": [
    "Passos para análise de consistência:\n",
    "\n",
    "- Preciso remover voltas que não seriam interessantes eu considerar do dataset pra analisar apenas tempo de volta válida (não quero voltas lentas de SC, ou que o piloto tenha parado no Box poluindo a análise);\n",
    "- Depois vou calcular o desvio padrão usando a window de prova e piloto (quero o desvio padrão que cada piloto teve em cada prova);\n",
    "- Análise da distribuição desse desv. pad. -> A \"largura\" da distribuição vai nos dizer algo sobre a consistência;\n",
    "- Análise da média do desvio padrão 0-> quanto maior a média, maior a inconsistência\n",
    "\n",
    "Obs.: Não sei se vou conseguir fazer uma análise da base toda de uma vez, porque vai ter pilotos com poucas corridas etc que vão atrapalhar a análise. Nesse caso, possivelmente só vai fazer sentido eu comparar pilotos diretamente comparáveis da era atual e nomes maiores que sabemos que são considerados grandes pilotos da F1."
   ]
  },
  {
   "cell_type": "markdown",
   "id": "8870f6eb",
   "metadata": {},
   "source": [
    "### Fazendo o tratamento do dataset:"
   ]
  },
  {
   "cell_type": "markdown",
   "id": "de2c04f0",
   "metadata": {},
   "source": [
    "#### Primeiro quero tentar tirar as voltas de *Safety Car*: \n",
    "\n",
    "Vou tentar fazer isso por meio de uma abordagem \"heurística\": Eu vou calcular a mediana do tempo de volta de uma corrida e vou comparar com a volta do piloto usando um *threshold*, quando o tempo de volta ultrapassar esse valor (que acontece quando a volta, em tese, é BEM mais lenta que uma volta normal), e vou colocar a condição pra verificar que seja uma vola em que o piloto não perdeu posições (se ele rodou, o tempo de volta vai ser maior mas ele vai ter perdido posições, se for um SC por um motivo externo, ele não deveria perder posições).\n",
    "\n",
    "Dessa forma (digo isso depois de ter feito essa análise algumas vezes e olhado repetidamente o dataset resultante), acredito que eu tenha conseguido, da melhor forma que pensei, retirar voltas que são lentas por motivos de corrida, mas ao mesmo tempo, manter voltas em que o piloto possa ter cometido algum erro ou então ter sido mais lento por falta de consistência mesmo."
   ]
  },
  {
   "cell_type": "code",
   "execution_count": null,
   "id": "7e705423",
   "metadata": {},
   "outputs": [],
   "source": [
    "df_lap_times = fxns.identificar_voltas_safety_car(\n",
    "    df_laps=df_lap_times,\n",
    "    threshold_percent=1.20 # Pra eu considerar como volta de SC, o ritmo tem que ter diminuído em pelo menos 20% (chute com critério em breves pesquisas)    \n",
    "    )"
   ]
  },
  {
   "cell_type": "code",
   "execution_count": null,
   "id": "03c7da77",
   "metadata": {},
   "outputs": [],
   "source": [
    "df_lap_times"
   ]
  },
  {
   "cell_type": "code",
   "execution_count": null,
   "id": "a7a76fe3",
   "metadata": {},
   "outputs": [],
   "source": [
    "# Vamos fazer um \"check de sanidade\" nessa flag que eu acabei de criar:\n",
    "\n",
    "df_check_sc = df_lap_times.groupby(\n",
    "    by=[\n",
    "        'race_name',\n",
    "        'race_date',\n",
    "        'is_safety_car_lap'\n",
    "    ]\n",
    ").agg({\n",
    "    'lap_time_ms':'mean'\n",
    "}).reset_index()"
   ]
  },
  {
   "cell_type": "code",
   "execution_count": null,
   "id": "e7707e7c",
   "metadata": {},
   "outputs": [],
   "source": [
    "df_check_sc.sort_values('lap_time_ms', ascending=False)"
   ]
  },
  {
   "cell_type": "code",
   "execution_count": null,
   "id": "ec50abfc",
   "metadata": {},
   "outputs": [],
   "source": [
    "fig, ax = plt.subplots(figsize=(16,9))\n",
    "\n",
    "sns.histplot(\n",
    "    data=df_check_sc,\n",
    "    x='lap_time_ms',\n",
    "    hue='is_safety_car_lap',\n",
    "    bins=1000,\n",
    "    ax=ax\n",
    ")\n",
    "\n",
    "ax.set_title('Distribuição de tempos médios de volta: Volta Normal VS SC')\n",
    "ax.set_xlabel('Tempo de Volta (ms)')\n",
    "ax.set_ylabel('Contagem')\n",
    "ax.legend(title='Flag Safety Car', labels=['Safety Car', 'Volta Normal'])"
   ]
  },
  {
   "cell_type": "markdown",
   "id": "efaff18f",
   "metadata": {},
   "source": [
    "É difícil fazer uma validação plena da informação acima, mas, vendo o gráfico, conseguimos observar que as voltas classificadas como lentas (Safety Car) estão mais esparsas e mais lentas que as voltas normais, que são maiores em quantidade e mais concentradas, o que vai em linha com o esperado, portanto, considero que a flag está fazendo sentido no momento."
   ]
  },
  {
   "cell_type": "markdown",
   "id": "f3da27ca",
   "metadata": {},
   "source": [
    "### Removendo voltas a serem desconsideradas na análise:"
   ]
  },
  {
   "cell_type": "markdown",
   "id": "a3402c69",
   "metadata": {},
   "source": [
    "Na minha visão, para análises de tempo de volta, tenho que tirar:\n",
    "- Voltas de SC, que foi as que indicamos acima;\n",
    "- Primeiras voltas, sendo que não são representativas do ritmo de corrida ao longo das demais voltas;\n",
    "- Voltas em que o piloto parou no pit stop, e isso, conseguimos ter a indicação a partir do dataset de pit stop, sendo que previamente já incluimos uma flag pra identificar esses casos;\n",
    "- Removo eventos em que o piloto não terminou (geralmente a última volta possui valores bem elevados nesses casos)."
   ]
  },
  {
   "cell_type": "code",
   "execution_count": null,
   "id": "01dc5cde",
   "metadata": {},
   "outputs": [],
   "source": [
    "df_lap_times_valid = fxns.filtrar_voltas_para_analise(df=df_lap_times)"
   ]
  },
  {
   "cell_type": "code",
   "execution_count": null,
   "id": "d70b2e45",
   "metadata": {},
   "outputs": [],
   "source": [
    "df_lap_times_valid"
   ]
  },
  {
   "cell_type": "markdown",
   "id": "a7f44690",
   "metadata": {},
   "source": [
    "### Criando uma métrica de consistência\n",
    "\n",
    "Agora que tenho o meu dataset \"limpo\", vou tentar calcular a consistência do piloto por meio do desvio padrão do tempo de volta de cada piloto em cada etapa. A ideia aqui é a seguinte:\n",
    "\n",
    "- Analisar a distribuição do desvio padrão -> Quanto mais agrupada a distribuição em menores valores, significa que o piloto é mais consistente entre as diferentes corridas.\n",
    "- Analisar a média do desvio padrão -> Quanto menor o o valor, significa que o piloto possui maior consistência entre as diferentes corridas.\n",
    "\n",
    "A questão (depois de já ter tentado fazer essa análise algumas vezes) é que algumas corridas tem um desvio padrão de tempo de volta muito alto por natureza, e isso acaba atrapalhando bem a análise em certas comparações (corridas em que há mudança de clima possuem um alto desvio padrão natural embutido), então, o que terei que fazer é uma espécie de **\"normalização relativa\"** dos desvios padrões da seguinte forma:\n",
    "\n",
    "- Calcularei os desvios padrões de cada piloto em cada evento, e farei a média geral desses valores também, irei então, calcular a diferença entre o desvio padrão do piloto e a média dos desvios padrões entre os pilotos, assim, eu vou beneficiar os pilotos que possuirem maior consistência (menor variação do tempo de volta) contra a variação \"inerente\" (representada pela média dos desvios padrões).\n",
    "\n",
    "Vamos lá e vou tentar deixar claro conforme eu for chegando em conclusões:"
   ]
  },
  {
   "cell_type": "code",
   "execution_count": null,
   "id": "1688d5e2",
   "metadata": {},
   "outputs": [],
   "source": [
    "df_lap_times_std = (\n",
    "    df_lap_times_valid.groupby(['race_name', 'year', 'driver_full_name'])['lap_time_ms']\n",
    "    .agg(['std', 'mean'])\n",
    "    .rename(columns={'std': 'lap_time_std', 'mean': 'lap_time_mean'})\n",
    "    .reset_index()\n",
    ")\n",
    "\n",
    "df_lap_times_std['lap_time_std_mean'] = df_lap_times_std.groupby(['race_name', 'year'])['lap_time_std'].transform('mean')\n",
    "\n",
    "df_lap_times_std['lap_time_std_driver_vs_mean'] = df_lap_times_std['lap_time_std'] - df_lap_times_std['lap_time_std_mean']\n",
    "\n",
    "df_lap_times_std"
   ]
  },
  {
   "cell_type": "markdown",
   "id": "5bac80f7",
   "metadata": {},
   "source": [
    "Antes de qualquer coisa, vamos dar uma olhada na consistência do Verstappen pra eu explicar o que estou tentando analisar:"
   ]
  },
  {
   "cell_type": "code",
   "execution_count": null,
   "id": "6c535e9c",
   "metadata": {},
   "outputs": [],
   "source": [
    "fig, ax = plt.subplots(figsize=(16, 9))\n",
    "\n",
    "df_plot = df_lap_times_std[df_lap_times_std['driver_full_name'].isin(['Max Verstappen'])]\n",
    "\n",
    "# Define uma paleta de cores fixa para garantir consistência\n",
    "cor_base = \"#FF7009\"      # Laranja para o piloto base (Verstappen)\n",
    "palette = {'Max Verstappen': cor_base}\n",
    "\n",
    "# Calcula o número de corridas\n",
    "n_corridas_base = len(df_plot[df_plot['driver_full_name'] == 'Max Verstappen'])\n",
    "\n",
    "# Plot do histograma e da curva de densidade (KDE)\n",
    "sns.histplot(data=df_plot, x='lap_time_std_driver_vs_mean', bins=250, kde=True, ax=ax, color=cor_base)\n",
    "\n",
    "# Adiciona linhas verticais para a média de cada piloto\n",
    "media_base = df_plot[df_plot['driver_full_name'] == 'Max Verstappen']['lap_time_std_driver_vs_mean'].mean()\n",
    "\n",
    "ax.axvline(media_base, color=cor_base, linestyle='--', linewidth=2, label=f'Média {'Max Verstappen'.split(\" \")[-1]}: {media_base:.2f}')\n",
    "\n",
    "# Títulos e rótulos\n",
    "ax.set_title(f\"Análise de Consistência: {'Max Verstappen'}\", fontsize=16)\n",
    "ax.set_xlabel(f\"{'lap_time_std_driver_vs_mean'} (Menor é mais consistente)\", fontsize=12)\n",
    "ax.set_ylabel(\"Frequência (nº de corridas)\", fontsize=12)\n",
    "\n",
    "# Atualiza a legenda para incluir a contagem de corridas\n",
    "handles, _ = ax.get_legend_handles_labels()\n",
    "labels = [f'{'Max Verstappen'} ({n_corridas_base} corridas)'] + [h.get_label() for h in handles[2:]]\n",
    "ax.legend(handles=handles, labels=labels)\n",
    "\n",
    "ax.grid(axis='y', linestyle='--', alpha=0.6)\n",
    "plt.show()"
   ]
  },
  {
   "cell_type": "markdown",
   "id": "efc450a0",
   "metadata": {},
   "source": [
    "#### Vou explicar o que eu estou traznedo aqui acima:\n",
    "\n",
    "Neste gráfico, visualizamos a distribuição do 'lap_time_std_driver_vs_mean' para Max Verstappen. Essa métrica representa a diferença entre o desvio padrão de Max Verstappen e o desvio padrão médio de todos os pilotos em determinado evento.\n",
    "\n",
    "A linha vertical tracejada indica a média dos valores de 'lap_time_std_driver_vs_mean' de Verstappen. Uma média menor que 0, que é o caso de Verstappen, significa que ele tende a ser mais consistente que a média dos pilotos.\n",
    "\n",
    "Ou seja, amostras à esquerda dessa linha representam corridas em que o piloto foi mais consistente que a média, e os valores à direita indicam corridas em que a consistência foi abaixo da média (desvio padrão maior que a média). O ideal é observar uma concentração maior de corridas à esquerda, sinalizando que, na maior parte do tempo, o piloto manteve um desempenho consistente, em que seus tempos de volta variaram menos que a média. \n",
    "\n",
    "**Importante**: os dados que estou olhando no momento não refletem TEMPO DE VOLTA, mas sim são um reflexo de CONSISTÊNCIA. Ou seja, valores a esquerda não significam voltas mais rápidas, mas sim que os tempos de volta oscilaram menos do que de outros pilotos. Vou olhar performance, tempos de volta de uma outra forma logo depois..."
   ]
  },
  {
   "cell_type": "markdown",
   "id": "405dc572",
   "metadata": {},
   "source": [
    "### Comparando com outros pilotos\n",
    "\n",
    "Agora que expliquei o que estou tentando fazer aqui, eu posso fazer comparação entre a distribuição que vimos acima de Verstappen, com uma média menor do que 0 e com uma distribuição aparentemente concentrada em torno do 0, com demais pilotos, vendo como as coisas se comparam.\n",
    "\n",
    "O que queremos ver aqui decorre do que expliquei acima:\n",
    "\n",
    "- Menor média = maior consistência\n",
    "- Distribuição concentrada = pouca variação do tempo de volta\n",
    "- Amostras presentes mais à esquerda = consistência maior que a média\n",
    "- Amostras à direita = pior consistência do que a média\n",
    "- Cauda alongada à direita = possíveis amostras nas quais o piloto cometeu algum erro e perdeu posições\n",
    "\n",
    "etc..."
   ]
  },
  {
   "cell_type": "code",
   "execution_count": null,
   "id": "36cd26ff",
   "metadata": {},
   "outputs": [],
   "source": [
    "pilotos_para_comparar = [\n",
    "    # Campeões e Rivais Históricos\n",
    "    'Lewis Hamilton',\n",
    "    'Sebastian Vettel',\n",
    "    'Fernando Alonso',\n",
    "    'Nico Rosberg',\n",
    "    'Kimi Räikkönen',\n",
    "    \n",
    "    # Companheiros de Equipe (atuais e passados)\n",
    "    'Sergio Pérez',\n",
    "    'Daniel Ricciardo',\n",
    "    'Alexander Albon',\n",
    "    'Pierre Gasly',\n",
    "    'Carlos Sainz',\n",
    "    \n",
    "    # Nova Geração e Rivais Atuais\n",
    "    'Charles Leclerc',\n",
    "    'Lando Norris',\n",
    "    'George Russell',\n",
    "    'Oscar Piastri',\n",
    "    'Valtteri Bottas'\n",
    "]\n",
    "\n",
    "fxns.comparar_consistencia_pilotos_hist(\n",
    "    df_consistencia=df_lap_times_std,\n",
    "    pilotos_a_comparar=pilotos_para_comparar,\n",
    "    metrica='lap_time_std_driver_vs_mean',\n",
    "    bins=250\n",
    ")\n"
   ]
  },
  {
   "cell_type": "markdown",
   "id": "6a3a213a",
   "metadata": {},
   "source": [
    "Bom, eu acredito que cheguei em alguma análise com um bom critério, porque os resultados nas comparações acima foram \"consistentes\" (risos):\n",
    "\n",
    "- O Verstappen parece possuir uma consistência fora do normal, olhando cada gráfico acima, a média de seu desvio padrão relativo é menor do que todos os outros pilotos que estamos trazendo na comparação.\n",
    "- O único piloto que chega mais perto (tendo uma quantidade muito alta de corridas também, o que é mais um reforço em termos de consistência) é ninguém mais, ninguém menos que Lewis Hamilton (que surpresa)...\n",
    "\n",
    "Para tentar simplificar essa visão de comparação de médias, podemos ir direto nisso também:\n",
    "\n"
   ]
  },
  {
   "cell_type": "code",
   "execution_count": null,
   "id": "c797a71e",
   "metadata": {},
   "outputs": [],
   "source": [
    "df_lap_times_std"
   ]
  },
  {
   "cell_type": "code",
   "execution_count": null,
   "id": "0d7a0798",
   "metadata": {},
   "outputs": [],
   "source": [
    "df_lap_times_std_agrup = df_lap_times_std[\n",
    "    # Quero só trazer uma era mais \"moderna\", por exemplo, não vejo sentido em comparar com Senna, por n motivos\n",
    "    (df_lap_times_std['year']>2010) &\\\n",
    "    (df_lap_times_std['driver_full_name'].isin(pilotos_para_comparar + ['Max Verstappen', 'Lance Stroll']))\n",
    "    ].groupby( \n",
    "    by=[\n",
    "        'driver_full_name',\n",
    "    ]\n",
    ").agg(\n",
    "    {\n",
    "        'lap_time_std_driver_vs_mean':'mean'\n",
    "    }\n",
    ").reset_index()\n",
    "\n",
    "df_lap_times_std_agrup.sort_values('lap_time_std_driver_vs_mean', ascending=True)"
   ]
  },
  {
   "cell_type": "code",
   "execution_count": null,
   "id": "622a5853",
   "metadata": {},
   "outputs": [],
   "source": [
    "# Define a cor laranja para o Verstappen\n",
    "cor_verstappen = \"#FF7009\"\n",
    "\n",
    "# Cria a paleta de cores.  Outros pilotos serão azuis.\n",
    "palette = {piloto: cor_verstappen if piloto == 'Max Verstappen' else 'steelblue' for piloto in df_lap_times_std_agrup['driver_full_name']}\n",
    "\n",
    "# Ordena o DataFrame para que o piloto mais consistente apareça no topo\n",
    "df_lap_times_std_agrup = df_lap_times_std_agrup.sort_values('lap_time_std_driver_vs_mean', ascending=False)\n",
    "\n",
    "# Cria o gráfico\n",
    "fig, ax = plt.subplots(figsize=(12, 8))\n",
    "sns.barplot(x='lap_time_std_driver_vs_mean', y='driver_full_name', data=df_lap_times_std_agrup, palette=palette, ax=ax)\n",
    "\n",
    "# Adiciona rótulos e título\n",
    "ax.set_xlabel('Média lap_time_std_driver_vs_mean (Valores mais negativos indicam maior consistência)')\n",
    "ax.set_ylabel('Piloto')\n",
    "ax.set_title('Comparação da Consistência Média por Piloto (Valores mais negativos = Mais consistente)')\n",
    "\n",
    "# Adiciona grid para facilitar a leitura\n",
    "ax.grid(axis='x', linestyle='--')\n",
    "\n",
    "# Remove as bordas do gráfico\n",
    "sns.despine(left=True, bottom=True)\n",
    "\n",
    "# Mostra o gráfico\n",
    "plt.show()"
   ]
  },
  {
   "cell_type": "markdown",
   "id": "ebf5c978",
   "metadata": {},
   "source": [
    "Max Verstappen se apresenta como o piloto mais consistente da análise:\n",
    "\n",
    "- Seguido de Oscar Piastri, o que é bem interessante, mas uma coisa a se levar em consideração é que o Piastri tem muito menos corridas do que o Verstappen (apenas 38 até onde meu dataset vai), sendo que espera-se ter algo mais representativo ao longo de um número maior de corridas;\n",
    "- Lewis Hamilton, que possui inclusive mais corridas do que o MV, é o 3o colocado na análise de consistência, o que é consistente com o calibre de pilodo que é, e faz sentido;\n",
    "- Depois do LH, vemos outros grandes nomes da F1, muitos que já foram campeões, todos se apresentando como mais consistentes do que a média."
   ]
  },
  {
   "cell_type": "markdown",
   "id": "a0516fae",
   "metadata": {},
   "source": []
  }
 ],
 "metadata": {
  "kernelspec": {
   "display_name": "venv (3.12.3)",
   "language": "python",
   "name": "python3"
  },
  "language_info": {
   "codemirror_mode": {
    "name": "ipython",
    "version": 3
   },
   "file_extension": ".py",
   "mimetype": "text/x-python",
   "name": "python",
   "nbconvert_exporter": "python",
   "pygments_lexer": "ipython3",
   "version": "3.12.3"
  }
 },
 "nbformat": 4,
 "nbformat_minor": 5
}
